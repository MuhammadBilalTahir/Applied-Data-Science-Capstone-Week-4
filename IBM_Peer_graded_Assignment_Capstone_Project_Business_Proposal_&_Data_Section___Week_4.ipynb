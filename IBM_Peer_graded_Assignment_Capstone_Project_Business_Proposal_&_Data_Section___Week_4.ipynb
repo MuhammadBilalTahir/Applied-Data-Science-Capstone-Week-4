{
  "nbformat": 4,
  "nbformat_minor": 0,
  "metadata": {
    "colab": {
      "name": "IBM Peer-graded Assignment: Capstone Project - Business Proposal & Data Section | Week 4.ipynb",
      "provenance": [],
      "collapsed_sections": [
        "x573FYmTBmW_",
        "twn7OdWxCfOB"
      ]
    },
    "kernelspec": {
      "name": "python3",
      "display_name": "Python 3"
    }
  },
  "cells": [
    {
      "cell_type": "markdown",
      "metadata": {
        "id": "lYOsayqWClAF"
      },
      "source": [
        "# **Applied Data Science Capstone Week 4**\r\n"
      ]
    },
    {
      "cell_type": "markdown",
      "metadata": {
        "id": "KJaeozO0Ba4C"
      },
      "source": [
        "#**Peer-graded Assignment: Capstone Project - The Battle of Neighborhoods**\r\n",
        "\r\n",
        "**Business Proposal & Data Section**\r\n",
        "\r\n"
      ]
    },
    {
      "cell_type": "markdown",
      "metadata": {
        "id": "x573FYmTBmW_"
      },
      "source": [
        "#**The Battle of Neighborhoods | Business Proposal | Introduction:**\r\n"
      ]
    },
    {
      "cell_type": "markdown",
      "metadata": {
        "id": "5v2MhAriBh6b"
      },
      "source": [
        "**Introduction:**\r\n",
        "\r\n",
        "The purpose of this Project is to help people in exploring better facilities around their neighborhood. It will help people making smart and efficient decision on selecting great neighborhood out of numbers of other neighborhoods in Scarborough, Toranto.\r\n",
        "\r\n",
        "Lots of people are migrating to various states of Canada and needed lots of research for good housing prices and reputated schools for their children. This project is for those people who are looking for better neighborhoods. For ease of accessing to Cafe, School, Super market, medical shops, grocery shops, mall, theatre, hospital, like minded people, etc.\r\n",
        "\r\n",
        "This Project aim to create an analysis of features for a people migrating to Scarborough to search a best neighborhood as a comparative analysis between neighborhoods. The features include median housing price and better school according to ratings, crime rates of that particular area, road connectivity, weather conditions, good management for emergency, water resources both freash and waste water and excrement conveyed in sewers and recreational facilities.\r\n",
        "\r\n",
        "It will help people to get awareness of the area and neighborhood before moving to a new city, state, country or place for their work or to start a new fresh life.\r\n",
        "\r\n",
        "**Problem Which Tried to Solve:**\r\n",
        "\r\n",
        "The major purpose of this project, is to suggest a better neighborhood in a new city for the person who are shiffting there. Social presence in society in terms of like minded people. Connectivity to the airport, bus stand, city center, markets and other daily needs things nearby.\r\n",
        "\r\n",
        "Sorted list of house in terms of housing prices in a ascending or descending order\r\n",
        "Sorted list of schools in terms of location, fees, rating and reviews\r\n",
        "\r\n",
        "The Location:\r\n",
        "Scarborough is a popular destination for new immigrants in Canada to reside. As a result, it is one of the most diverse and multicultural areas in the Greater Toronto Area, being home to various religious groups and places of worship. Although immigration has become a hot topic over the past few years with more governments seeking more restrictions on immigrants and refugees, the general trend of immigration into Canada has been one of on the rise.\r\n",
        "\r\n",
        "**Foursquare API:**\r\n",
        "\r\n",
        "This project would use Four-square API as its prime data gathering source as it has a database of millions of places, especially their places API which provides the ability to perform location search, location sharing and details about a business.\r\n",
        "\r\n",
        "**Work Flow:**\r\n",
        "\r\n",
        "Using credentials of Foursquare API features of near-by places of the neighborhoods would be mined. Due to http request limitations the number of places per neighborhood parameter would reasonably be set to 100 and the radius parameter would be set to 500.\r\n",
        "\r\n",
        "**Clustering Approach:**\r\n",
        "\r\n",
        "To compare the similarities of two cities, we decided to explore neighborhoods, segment them, and group them into clusters to find similar neighborhoods in a big city like New York and Toronto. To be able to do that, we need to cluster data which is a form of unsupervised machine learning: k-means clustering algorithm\r\n",
        "\r\n",
        "**Libraries Which are Used to Develope the Project:**\r\n",
        "\r\n",
        "**Pandas:** For creating and manipulating dataframes.\r\n",
        "\r\n",
        "**Folium:** Python visualization library would be used to visualize the neighborhoods cluster distribution of using interactive leaflet map.\r\n",
        "\r\n",
        "**Scikit Learn:** For importing k-means clustering.\r\n",
        "\r\n",
        "**JSON:** Library to handle JSON files.\r\n",
        "\r\n",
        "**XML:** To separate data from presentation and XML stores data in plain text format.\r\n",
        "\r\n",
        "**Geocoder:** To retrieve Location Data.\r\n",
        "\r\n",
        "**Beautiful Soup and Requests:** To scrap and library to handle http requests.\r\n",
        "\r\n",
        "**Matplotlib:** Python Plotting Module."
      ]
    },
    {
      "cell_type": "markdown",
      "metadata": {
        "id": "twn7OdWxCfOB"
      },
      "source": [
        "#**The Battle of Neighborhoods | Data Description**"
      ]
    },
    {
      "cell_type": "markdown",
      "metadata": {
        "id": "ASWPQhb5C3r7"
      },
      "source": [
        "**Data Description:**\r\n",
        "\r\n",
        "**Data Link:** https://en.wikipedia.org/wiki/List_of_postal_codes_of_Canada:_M\r\n",
        "\r\n",
        "Will use Scarborough dataset which we scrapped from wikipedia on Week 3. Dataset consisting of latitude and longitude, zip codes.\r\n",
        "\r\n",
        "Foursquare API Data:\r\n",
        "We will need data about different venues in different neighborhoods of that specific borough. In order to gain that information we will use \"Foursquare\" locational information. Foursquare is a location data provider with information about all manner of venues and events within an area of interest. Such information includes venue names, locations, menus and even photos. As such, the foursquare location platform will be used as the sole data source since all the stated required information can be obtained through the API.\r\n",
        "\r\n",
        "After finding the list of neighborhoods, we then connect to the Foursquare API to gather information about venues inside each and every neighborhood. For each neighborhood, we have chosen the radius to be 100 meter.\r\n",
        "\r\n",
        "The data retrieved from Foursquare contained information of venues within a specified distance of the longitude and latitude of the postcodes. The information obtained per venue as follows:\r\n",
        "\r\n",
        "1. Neighborhood\r\n",
        "2. Neighborhood Latitude\r\n",
        "3. Neighborhood Longitude\r\n",
        "4. Venue\r\n",
        "5. Name of the venue e.g. the name of a store or restaurant\r\n",
        "6. Venue Latitude\r\n",
        "7. Venue Longitude\r\n",
        "8. Venue Category"
      ]
    }
  ]
}